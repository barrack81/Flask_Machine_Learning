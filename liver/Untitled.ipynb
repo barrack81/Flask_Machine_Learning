{
 "cells": [
  {
   "cell_type": "code",
   "execution_count": 1,
   "id": "d2ba6dc6",
   "metadata": {},
   "outputs": [],
   "source": [
    "import pandas as pd"
   ]
  },
  {
   "cell_type": "code",
   "execution_count": 2,
   "id": "0a5bfe8b",
   "metadata": {},
   "outputs": [],
   "source": [
    "import numpy as np"
   ]
  },
  {
   "cell_type": "code",
   "execution_count": 3,
   "id": "f577a44c",
   "metadata": {},
   "outputs": [],
   "source": [
    "from sklearn.model_selection import train_test_split"
   ]
  },
  {
   "cell_type": "code",
   "execution_count": 4,
   "id": "c48e1cf0",
   "metadata": {},
   "outputs": [],
   "source": [
    "import tensorflow as tf"
   ]
  },
  {
   "cell_type": "code",
   "execution_count": 5,
   "id": "08b58d5b",
   "metadata": {},
   "outputs": [],
   "source": [
    "from tensorflow.keras.models import Sequential"
   ]
  },
  {
   "cell_type": "code",
   "execution_count": 6,
   "id": "8cf80777",
   "metadata": {},
   "outputs": [],
   "source": [
    "from tensorflow.keras.layers import Dense"
   ]
  },
  {
   "cell_type": "code",
   "execution_count": 7,
   "id": "ff16e2b2",
   "metadata": {},
   "outputs": [],
   "source": [
    "data = pd.read_csv(\"liver.csv\", encoding = 'latin1')"
   ]
  },
  {
   "cell_type": "code",
   "execution_count": 8,
   "id": "9140ca08",
   "metadata": {},
   "outputs": [],
   "source": [
    "categorical_columns = ['Gender of the patient']"
   ]
  },
  {
   "cell_type": "code",
   "execution_count": 9,
   "id": "7635ef20",
   "metadata": {},
   "outputs": [],
   "source": [
    "data = pd.get_dummies(data, columns=categorical_columns)"
   ]
  },
  {
   "cell_type": "code",
   "execution_count": 10,
   "id": "8e50ac96",
   "metadata": {},
   "outputs": [],
   "source": [
    "x = data.drop(\"Result\", axis=1)"
   ]
  },
  {
   "cell_type": "code",
   "execution_count": 11,
   "id": "c971b54f",
   "metadata": {},
   "outputs": [],
   "source": [
    "y = data[\"Result\"]"
   ]
  },
  {
   "cell_type": "code",
   "execution_count": 12,
   "id": "8d239e1d",
   "metadata": {},
   "outputs": [],
   "source": [
    "x_train,x_test,y_train,y_test = train_test_split(x,y, test_size=0.2,random_state=42)"
   ]
  },
  {
   "cell_type": "code",
   "execution_count": 13,
   "id": "1b7051a1",
   "metadata": {},
   "outputs": [
    {
     "name": "stderr",
     "output_type": "stream",
     "text": [
      "C:\\Users\\barra\\anaconda3\\Lib\\site-packages\\keras\\src\\layers\\core\\dense.py:86: UserWarning: Do not pass an `input_shape`/`input_dim` argument to a layer. When using Sequential models, prefer using an `Input(shape)` object as the first layer in the model instead.\n",
      "  super().__init__(activity_regularizer=activity_regularizer, **kwargs)\n"
     ]
    }
   ],
   "source": [
    "model = Sequential([\n",
    "    Dense(64,activation='relu', input_shape=(x_train.shape[1],)),\n",
    "    Dense(32,activation='relu'),\n",
    "    Dense(1,activation='sigmoid')\n",
    "])"
   ]
  },
  {
   "cell_type": "code",
   "execution_count": 14,
   "id": "bdde767a",
   "metadata": {},
   "outputs": [],
   "source": [
    "model.compile(optimizer='adam', loss='binary_crossentropy', metrics=['accuracy'])"
   ]
  },
  {
   "cell_type": "code",
   "execution_count": 15,
   "id": "d7a65db0",
   "metadata": {},
   "outputs": [
    {
     "name": "stdout",
     "output_type": "stream",
     "text": [
      "Epoch 1/10\n",
      "\u001b[1m614/614\u001b[0m \u001b[32m━━━━━━━━━━━━━━━━━━━━\u001b[0m\u001b[37m\u001b[0m \u001b[1m2s\u001b[0m 2ms/step - accuracy: 0.7008 - loss: 0.4319 - val_accuracy: 0.7078 - val_loss: -1.1105\n",
      "Epoch 2/10\n",
      "\u001b[1m614/614\u001b[0m \u001b[32m━━━━━━━━━━━━━━━━━━━━\u001b[0m\u001b[37m\u001b[0m \u001b[1m1s\u001b[0m 2ms/step - accuracy: 0.7139 - loss: -1.7593 - val_accuracy: 0.7078 - val_loss: -5.1477\n",
      "Epoch 3/10\n",
      "\u001b[1m614/614\u001b[0m \u001b[32m━━━━━━━━━━━━━━━━━━━━\u001b[0m\u001b[37m\u001b[0m \u001b[1m1s\u001b[0m 2ms/step - accuracy: 0.7116 - loss: -7.0662 - val_accuracy: 0.7078 - val_loss: -14.9968\n",
      "Epoch 4/10\n",
      "\u001b[1m614/614\u001b[0m \u001b[32m━━━━━━━━━━━━━━━━━━━━\u001b[0m\u001b[37m\u001b[0m \u001b[1m1s\u001b[0m 2ms/step - accuracy: 0.7124 - loss: -18.3463 - val_accuracy: 0.7078 - val_loss: -31.3278\n",
      "Epoch 5/10\n",
      "\u001b[1m614/614\u001b[0m \u001b[32m━━━━━━━━━━━━━━━━━━━━\u001b[0m\u001b[37m\u001b[0m \u001b[1m1s\u001b[0m 2ms/step - accuracy: 0.7184 - loss: -35.1845 - val_accuracy: 0.7078 - val_loss: -53.4102\n",
      "Epoch 6/10\n",
      "\u001b[1m614/614\u001b[0m \u001b[32m━━━━━━━━━━━━━━━━━━━━\u001b[0m\u001b[37m\u001b[0m \u001b[1m1s\u001b[0m 2ms/step - accuracy: 0.7115 - loss: -59.0537 - val_accuracy: 0.7078 - val_loss: -80.3361\n",
      "Epoch 7/10\n",
      "\u001b[1m614/614\u001b[0m \u001b[32m━━━━━━━━━━━━━━━━━━━━\u001b[0m\u001b[37m\u001b[0m \u001b[1m1s\u001b[0m 2ms/step - accuracy: 0.7156 - loss: -85.4540 - val_accuracy: 0.7078 - val_loss: -111.3661\n",
      "Epoch 8/10\n",
      "\u001b[1m614/614\u001b[0m \u001b[32m━━━━━━━━━━━━━━━━━━━━\u001b[0m\u001b[37m\u001b[0m \u001b[1m1s\u001b[0m 2ms/step - accuracy: 0.7100 - loss: -118.9177 - val_accuracy: 0.7078 - val_loss: -146.1510\n",
      "Epoch 9/10\n",
      "\u001b[1m614/614\u001b[0m \u001b[32m━━━━━━━━━━━━━━━━━━━━\u001b[0m\u001b[37m\u001b[0m \u001b[1m1s\u001b[0m 2ms/step - accuracy: 0.7167 - loss: -150.7595 - val_accuracy: 0.7078 - val_loss: -184.7327\n",
      "Epoch 10/10\n",
      "\u001b[1m614/614\u001b[0m \u001b[32m━━━━━━━━━━━━━━━━━━━━\u001b[0m\u001b[37m\u001b[0m \u001b[1m1s\u001b[0m 2ms/step - accuracy: 0.7050 - loss: -196.7431 - val_accuracy: 0.7078 - val_loss: -226.5513\n"
     ]
    },
    {
     "data": {
      "text/plain": [
       "<keras.src.callbacks.history.History at 0x25fa125f950>"
      ]
     },
     "execution_count": 15,
     "metadata": {},
     "output_type": "execute_result"
    }
   ],
   "source": [
    "model.fit(x_train, y_train, epochs=10, batch_size=32, validation_split=0.2)"
   ]
  },
  {
   "cell_type": "code",
   "execution_count": 16,
   "id": "6f8476ba",
   "metadata": {},
   "outputs": [
    {
     "name": "stdout",
     "output_type": "stream",
     "text": [
      "Index(['Age of the patient', 'Total Bilirubin', 'Direct Bilirubin',\n",
      "       ' Alkphos Alkaline Phosphotase', ' Sgpt Alamine Aminotransferase',\n",
      "       'Sgot Aspartate Aminotransferase', 'Total Protiens', ' ALB Albumin',\n",
      "       'A/G Ratio Albumin and Globulin Ratio', 'Result',\n",
      "       'Gender of the patient_Female', 'Gender of the patient_Male'],\n",
      "      dtype='object')\n"
     ]
    }
   ],
   "source": [
    "print(data.columns)"
   ]
  },
  {
   "cell_type": "code",
   "execution_count": 17,
   "id": "9ded0f04",
   "metadata": {},
   "outputs": [
    {
     "name": "stdout",
     "output_type": "stream",
     "text": [
      "   Age of the patient  Total Bilirubin  Direct Bilirubin  \\\n",
      "0                65.0              0.7               0.1   \n",
      "1                62.0             10.9               5.5   \n",
      "2                62.0              7.3               4.1   \n",
      "3                58.0              1.0               0.4   \n",
      "4                72.0              3.9               2.0   \n",
      "\n",
      "    Alkphos Alkaline Phosphotase   Sgpt Alamine Aminotransferase  \\\n",
      "0                          187.0                            16.0   \n",
      "1                          699.0                            64.0   \n",
      "2                          490.0                            60.0   \n",
      "3                          182.0                            14.0   \n",
      "4                          195.0                            27.0   \n",
      "\n",
      "   Sgot Aspartate Aminotransferase  Total Protiens   ALB Albumin  \\\n",
      "0                             18.0             6.8           3.3   \n",
      "1                            100.0             7.5           3.2   \n",
      "2                             68.0             7.0           3.3   \n",
      "3                             20.0             6.8           3.4   \n",
      "4                             59.0             7.3           2.4   \n",
      "\n",
      "   A/G Ratio Albumin and Globulin Ratio  Result  Gender of the patient_Female  \\\n",
      "0                                  0.90       1                          True   \n",
      "1                                  0.74       1                         False   \n",
      "2                                  0.89       1                         False   \n",
      "3                                  1.00       1                         False   \n",
      "4                                  0.40       1                         False   \n",
      "\n",
      "   Gender of the patient_Male  \n",
      "0                       False  \n",
      "1                        True  \n",
      "2                        True  \n",
      "3                        True  \n",
      "4                        True  \n"
     ]
    }
   ],
   "source": [
    "print(data.head())"
   ]
  },
  {
   "cell_type": "code",
   "execution_count": 18,
   "id": "55b76685",
   "metadata": {},
   "outputs": [
    {
     "name": "stdout",
     "output_type": "stream",
     "text": [
      "\u001b[1m192/192\u001b[0m \u001b[32m━━━━━━━━━━━━━━━━━━━━\u001b[0m\u001b[37m\u001b[0m \u001b[1m0s\u001b[0m 1ms/step - accuracy: 0.7114 - loss: -223.7649\n"
     ]
    }
   ],
   "source": [
    "loss, accuracy = model.evaluate(x_test, y_test)"
   ]
  },
  {
   "cell_type": "code",
   "execution_count": 19,
   "id": "c9f8c26e",
   "metadata": {},
   "outputs": [
    {
     "name": "stdout",
     "output_type": "stream",
     "text": [
      "Test Loss: -215.9647979736328,Test Accuracy: 0.7214530110359192\n"
     ]
    }
   ],
   "source": [
    "print(f'Test Loss: {loss},Test Accuracy: {accuracy}')"
   ]
  },
  {
   "cell_type": "code",
   "execution_count": 20,
   "id": "3e44b567",
   "metadata": {},
   "outputs": [
    {
     "name": "stderr",
     "output_type": "stream",
     "text": [
      "WARNING:absl:You are saving your model as an HDF5 file via `model.save()` or `keras.saving.save_model(model)`. This file format is considered legacy. We recommend using instead the native Keras format, e.g. `model.save('my_model.keras')` or `keras.saving.save_model(model, 'my_model.keras')`. \n"
     ]
    }
   ],
   "source": [
    "model.save(\"liver.h5\")"
   ]
  },
  {
   "cell_type": "code",
   "execution_count": null,
   "id": "8c9f8e6f",
   "metadata": {},
   "outputs": [],
   "source": []
  }
 ],
 "metadata": {
  "kernelspec": {
   "display_name": "Python 3 (ipykernel)",
   "language": "python",
   "name": "python3"
  },
  "language_info": {
   "codemirror_mode": {
    "name": "ipython",
    "version": 3
   },
   "file_extension": ".py",
   "mimetype": "text/x-python",
   "name": "python",
   "nbconvert_exporter": "python",
   "pygments_lexer": "ipython3",
   "version": "3.11.5"
  }
 },
 "nbformat": 4,
 "nbformat_minor": 5
}
